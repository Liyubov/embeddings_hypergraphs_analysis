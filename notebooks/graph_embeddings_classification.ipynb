{
  "nbformat": 4,
  "nbformat_minor": 0,
  "metadata": {
    "colab": {
      "provenance": [],
      "collapsed_sections": [
        "e0gFQQGsvah3"
      ]
    },
    "kernelspec": {
      "name": "python3",
      "display_name": "Python 3"
    },
    "language_info": {
      "name": "python"
    }
  },
  "cells": [
    {
      "cell_type": "code",
      "execution_count": null,
      "metadata": {
        "id": "4As2ZxLGtGym"
      },
      "outputs": [],
      "source": []
    },
    {
      "cell_type": "markdown",
      "source": [
        "# Overview of graph unsupervised embedding methods\n",
        "\n",
        "For graphs we will consider different types of embedding algorithms.\n",
        "\n",
        "Overall there are these main types of algorithms\n",
        "\n",
        "1. Chapter: Node Embedding Algorithms\n",
        "\n",
        "- Traditional: PCA, MDS, Laplacian Eigenmaps\n",
        "\n",
        "- Random Walk-based: DeepWalk, Node2Vec, LINE\n",
        "\n",
        "- Neural Network-based: GCN, GraphSAGE, GAT\n",
        "\n",
        "- Matrix Factorization: GraRep, HOPE\n",
        "\n",
        "- Probabilistic: VGAE, Deep Graph Infomax\n",
        "\n",
        "- Structural: struc2vec\n",
        "\n",
        "2. Chapter: Edge Embedding Algorithms\n",
        "\n",
        "- Operator-based (Hadamard, average, etc.) on node embeddings\n",
        "\n",
        "- Explicit edge embedding methods\n",
        "\n",
        "3. Chapter: Whole Graph Embedding Algorithms\n",
        "\n",
        "- Graph Kernels: Weisfeiler-Lehman, Graphlet\n",
        "\n",
        "- Neural Methods: Graph2Vec, DGCNN, Readout functions in GNNs\n",
        "\n"
      ],
      "metadata": {
        "id": "e0gFQQGsvah3"
      }
    },
    {
      "cell_type": "code",
      "source": [
        "\n",
        "#!pip install karateclub\n"
      ],
      "metadata": {
        "colab": {
          "base_uri": "https://localhost:8080/"
        },
        "id": "W0wHO5V-vfYi",
        "outputId": "af5ac58a-1473-4e58-bc6f-8b6918727306"
      },
      "execution_count": null,
      "outputs": [
        {
          "output_type": "stream",
          "name": "stdout",
          "text": [
            "Collecting karateclub\n",
            "  Downloading karateclub-1.3.3.tar.gz (64 kB)\n",
            "\u001b[2K     \u001b[90m━━━━━━━━━━━━━━━━━━━━━━━━━━━━━━━━━━━━━━━━\u001b[0m \u001b[32m64.5/64.5 kB\u001b[0m \u001b[31m5.4 MB/s\u001b[0m eta \u001b[36m0:00:00\u001b[0m\n",
            "\u001b[?25h  Preparing metadata (setup.py) ... \u001b[?25l\u001b[?25hdone\n",
            "Collecting numpy<1.23.0 (from karateclub)\n",
            "  Downloading numpy-1.22.4.zip (11.5 MB)\n",
            "\u001b[2K     \u001b[90m━━━━━━━━━━━━━━━━━━━━━━━━━━━━━━━━━━━━━━━━\u001b[0m \u001b[32m11.5/11.5 MB\u001b[0m \u001b[31m71.0 MB/s\u001b[0m eta \u001b[36m0:00:00\u001b[0m\n",
            "\u001b[?25h  Installing build dependencies ... \u001b[?25l\u001b[?25hdone\n",
            "  Getting requirements to build wheel ... \u001b[?25l\u001b[?25hdone\n",
            "  Preparing metadata (pyproject.toml) ... \u001b[?25l\u001b[?25hdone\n",
            "Collecting networkx<2.7 (from karateclub)\n",
            "  Downloading networkx-2.6.3-py3-none-any.whl.metadata (5.0 kB)\n",
            "Requirement already satisfied: decorator==4.4.2 in /usr/local/lib/python3.11/dist-packages (from karateclub) (4.4.2)\n",
            "Requirement already satisfied: tqdm in /usr/local/lib/python3.11/dist-packages (from karateclub) (4.67.1)\n",
            "Requirement already satisfied: python-louvain in /usr/local/lib/python3.11/dist-packages (from karateclub) (0.16)\n",
            "Requirement already satisfied: scikit-learn in /usr/local/lib/python3.11/dist-packages (from karateclub) (1.6.1)\n",
            "Requirement already satisfied: scipy in /usr/local/lib/python3.11/dist-packages (from karateclub) (1.13.1)\n",
            "Collecting pygsp (from karateclub)\n",
            "  Downloading PyGSP-0.5.1-py2.py3-none-any.whl.metadata (6.9 kB)\n",
            "Requirement already satisfied: gensim>=4.0.0 in /usr/local/lib/python3.11/dist-packages (from karateclub) (4.3.3)\n",
            "Collecting pandas<=1.3.5 (from karateclub)\n",
            "  Downloading pandas-1.3.5.tar.gz (4.7 MB)\n",
            "\u001b[2K     \u001b[90m━━━━━━━━━━━━━━━━━━━━━━━━━━━━━━━━━━━━━━━━\u001b[0m \u001b[32m4.7/4.7 MB\u001b[0m \u001b[31m90.7 MB/s\u001b[0m eta \u001b[36m0:00:00\u001b[0m\n",
            "\u001b[?25h  Installing build dependencies ... \u001b[?25l\u001b[?25hdone\n",
            "  Getting requirements to build wheel ... \u001b[?25l\u001b[?25hdone\n",
            "  Preparing metadata (pyproject.toml) ... \u001b[?25l\u001b[?25hdone\n",
            "Requirement already satisfied: six in /usr/local/lib/python3.11/dist-packages (from karateclub) (1.17.0)\n",
            "Collecting python-Levenshtein (from karateclub)\n",
            "\u001b[33m  WARNING: Retrying (Retry(total=4, connect=None, read=None, redirect=None, status=None)) after connection broken by 'ProtocolError('Connection aborted.', RemoteDisconnected('Remote end closed connection without response'))': /packages/0f/d7/03e0453719ed89724664f781f0255949408118093dbf77a2aa2a1198b38e/python_Levenshtein-0.26.1-py3-none-any.whl.metadata\u001b[0m\u001b[33m\n",
            "\u001b[0m  Downloading python_Levenshtein-0.26.1-py3-none-any.whl.metadata (3.7 kB)\n",
            "Requirement already satisfied: smart-open>=1.8.1 in /usr/local/lib/python3.11/dist-packages (from gensim>=4.0.0->karateclub) (7.1.0)\n",
            "Requirement already satisfied: python-dateutil>=2.7.3 in /usr/local/lib/python3.11/dist-packages (from pandas<=1.3.5->karateclub) (2.8.2)\n",
            "Requirement already satisfied: pytz>=2017.3 in /usr/local/lib/python3.11/dist-packages (from pandas<=1.3.5->karateclub) (2025.1)\n",
            "Collecting Levenshtein==0.26.1 (from python-Levenshtein->karateclub)\n",
            "  Downloading levenshtein-0.26.1-cp311-cp311-manylinux_2_17_x86_64.manylinux2014_x86_64.whl.metadata (3.2 kB)\n",
            "Collecting rapidfuzz<4.0.0,>=3.9.0 (from Levenshtein==0.26.1->python-Levenshtein->karateclub)\n",
            "  Downloading rapidfuzz-3.12.1-cp311-cp311-manylinux_2_17_x86_64.manylinux2014_x86_64.whl.metadata (11 kB)\n",
            "Requirement already satisfied: joblib>=1.2.0 in /usr/local/lib/python3.11/dist-packages (from scikit-learn->karateclub) (1.4.2)\n",
            "Requirement already satisfied: threadpoolctl>=3.1.0 in /usr/local/lib/python3.11/dist-packages (from scikit-learn->karateclub) (3.5.0)\n",
            "Requirement already satisfied: wrapt in /usr/local/lib/python3.11/dist-packages (from smart-open>=1.8.1->gensim>=4.0.0->karateclub) (1.17.2)\n",
            "Downloading networkx-2.6.3-py3-none-any.whl (1.9 MB)\n",
            "\u001b[2K   \u001b[90m━━━━━━━━━━━━━━━━━━━━━━━━━━━━━━━━━━━━━━━━\u001b[0m \u001b[32m1.9/1.9 MB\u001b[0m \u001b[31m53.3 MB/s\u001b[0m eta \u001b[36m0:00:00\u001b[0m\n",
            "\u001b[?25hDownloading PyGSP-0.5.1-py2.py3-none-any.whl (1.8 MB)\n",
            "\u001b[2K   \u001b[90m━━━━━━━━━━━━━━━━━━━━━━━━━━━━━━━━━━━━━━━━\u001b[0m \u001b[32m1.8/1.8 MB\u001b[0m \u001b[31m62.9 MB/s\u001b[0m eta \u001b[36m0:00:00\u001b[0m\n",
            "\u001b[?25hDownloading python_Levenshtein-0.26.1-py3-none-any.whl (9.4 kB)\n",
            "Downloading levenshtein-0.26.1-cp311-cp311-manylinux_2_17_x86_64.manylinux2014_x86_64.whl (162 kB)\n",
            "\u001b[2K   \u001b[90m━━━━━━━━━━━━━━━━━━━━━━━━━━━━━━━━━━━━━━━━\u001b[0m \u001b[32m162.7/162.7 kB\u001b[0m \u001b[31m14.2 MB/s\u001b[0m eta \u001b[36m0:00:00\u001b[0m\n",
            "\u001b[?25hDownloading rapidfuzz-3.12.1-cp311-cp311-manylinux_2_17_x86_64.manylinux2014_x86_64.whl (3.1 MB)\n",
            "\u001b[2K   \u001b[90m━━━━━━━━━━━━━━━━━━━━━━━━━━━━━━━━━━━━━━━━\u001b[0m \u001b[32m3.1/3.1 MB\u001b[0m \u001b[31m85.3 MB/s\u001b[0m eta \u001b[36m0:00:00\u001b[0m\n",
            "\u001b[?25hBuilding wheels for collected packages: karateclub, numpy, pandas\n",
            "  Building wheel for karateclub (setup.py) ... \u001b[?25l\u001b[?25hdone\n",
            "  Created wheel for karateclub: filename=karateclub-1.3.3-py3-none-any.whl size=101981 sha256=0fbb7d20ae6bdd920e232e9d35fae46c035bb65138cbaaa8bf956a421d695133\n",
            "  Stored in directory: /root/.cache/pip/wheels/d4/5c/79/e2ab4ecfd7451342e3652c382e2a894e198aa1f3807aa47ed3\n",
            "  Building wheel for numpy (pyproject.toml) ... \u001b[?25l\u001b[?25hdone\n",
            "  Created wheel for numpy: filename=numpy-1.22.4-cp311-cp311-linux_x86_64.whl size=17331409 sha256=8923054e0468ad894394909cd1078967d95951b4641d8048b3ce5c4ba5b1ebcd\n",
            "  Stored in directory: /root/.cache/pip/wheels/8e/c0/7e/1583fa989ccf57e2059824c8783691f4927f2ce7b77cec9da2\n",
            "  Building wheel for pandas (pyproject.toml) ... \u001b[?25l\u001b[?25hcanceled\n",
            "\u001b[31mERROR: Operation cancelled by user\u001b[0m\u001b[31m\n",
            "\u001b[0m"
          ]
        }
      ]
    },
    {
      "cell_type": "code",
      "source": [
        "\n",
        "\n",
        "\n",
        "from karateclub import Graph2Vec\n",
        "import networkx as nx\n",
        "\n",
        "# Assume 'graphs' is a list of networkx.Graph objects\n",
        "model = Graph2Vec(dimensions=64, wl_iterations=2)\n",
        "model.fit(graphs)\n",
        "embeddings = model.get_embedding()\n"
      ],
      "metadata": {
        "id": "DLZjjc0ivdYV"
      },
      "execution_count": null,
      "outputs": []
    },
    {
      "cell_type": "markdown",
      "source": [
        "\n",
        "Compare Embeddings using different metrics\n"
      ],
      "metadata": {
        "id": "3m-EF5pUxbnh"
      }
    },
    {
      "cell_type": "code",
      "source": [
        "\n",
        "\n",
        "from sklearn.metrics.pairwise import euclidean_distances\n",
        "distance_matrix = euclidean_distances(embeddings)"
      ],
      "metadata": {
        "id": "0C6a2lmZxaeg"
      },
      "execution_count": null,
      "outputs": []
    },
    {
      "cell_type": "markdown",
      "source": [
        "# Chapter 3.\n",
        "## Graph embeddings\n",
        "\n",
        "## Embedding methods using GNNs\n",
        "\n",
        "\n",
        "1. Whole Graph Embedding Algorithms\n",
        "\n",
        "2. Graph Kernels: Weisfeiler-Lehman, Graphlet\n",
        "\n",
        "3. Neural Methods: Graph2Vec, DGCNN, Readout functions in GNNs\n",
        "\n",
        "**Input graph.**\n",
        "In this algorithm we run the code on the graph, which we either set externally below as G\n",
        "or generate it using random networks library e.g.\n",
        "\n",
        "G = nx.erdos_renyi_graph(n, p).\n",
        "\n",
        "## Methods for embeddings comparison\n",
        "\n",
        "We have several graphs of size N nodes and we embed it into space of size m using torch_geometric.\n",
        "\n",
        "Then we want to estimate the distance between those graphs using various metrics (Euclidean distance and other metrics) to get a classification of graphs in m-dimensional space."
      ],
      "metadata": {
        "id": "UkXFbrvZtPdx"
      }
    },
    {
      "cell_type": "code",
      "source": [
        "\n",
        "!pip install torch_geometric\n",
        "\n"
      ],
      "metadata": {
        "colab": {
          "base_uri": "https://localhost:8080/"
        },
        "id": "bxcGSf-KtP2k",
        "outputId": "aab35774-22f2-4f93-e8b1-f9f3be90f7fd"
      },
      "execution_count": 2,
      "outputs": [
        {
          "output_type": "stream",
          "name": "stdout",
          "text": [
            "Collecting torch_geometric\n",
            "  Downloading torch_geometric-2.6.1-py3-none-any.whl.metadata (63 kB)\n",
            "\u001b[?25l     \u001b[90m━━━━━━━━━━━━━━━━━━━━━━━━━━━━━━━━━━━━━━━━\u001b[0m \u001b[32m0.0/63.1 kB\u001b[0m \u001b[31m?\u001b[0m eta \u001b[36m-:--:--\u001b[0m\r\u001b[2K     \u001b[90m━━━━━━━━━━━━━━━━━━━━━━━━━━━━━━━━━━━━━━━━\u001b[0m \u001b[32m63.1/63.1 kB\u001b[0m \u001b[31m1.7 MB/s\u001b[0m eta \u001b[36m0:00:00\u001b[0m\n",
            "\u001b[?25hRequirement already satisfied: aiohttp in /usr/local/lib/python3.11/dist-packages (from torch_geometric) (3.11.13)\n",
            "Requirement already satisfied: fsspec in /usr/local/lib/python3.11/dist-packages (from torch_geometric) (2024.10.0)\n",
            "Requirement already satisfied: jinja2 in /usr/local/lib/python3.11/dist-packages (from torch_geometric) (3.1.5)\n",
            "Requirement already satisfied: numpy in /usr/local/lib/python3.11/dist-packages (from torch_geometric) (1.26.4)\n",
            "Requirement already satisfied: psutil>=5.8.0 in /usr/local/lib/python3.11/dist-packages (from torch_geometric) (5.9.5)\n",
            "Requirement already satisfied: pyparsing in /usr/local/lib/python3.11/dist-packages (from torch_geometric) (3.2.1)\n",
            "Requirement already satisfied: requests in /usr/local/lib/python3.11/dist-packages (from torch_geometric) (2.32.3)\n",
            "Requirement already satisfied: tqdm in /usr/local/lib/python3.11/dist-packages (from torch_geometric) (4.67.1)\n",
            "Requirement already satisfied: aiohappyeyeballs>=2.3.0 in /usr/local/lib/python3.11/dist-packages (from aiohttp->torch_geometric) (2.4.6)\n",
            "Requirement already satisfied: aiosignal>=1.1.2 in /usr/local/lib/python3.11/dist-packages (from aiohttp->torch_geometric) (1.3.2)\n",
            "Requirement already satisfied: attrs>=17.3.0 in /usr/local/lib/python3.11/dist-packages (from aiohttp->torch_geometric) (25.1.0)\n",
            "Requirement already satisfied: frozenlist>=1.1.1 in /usr/local/lib/python3.11/dist-packages (from aiohttp->torch_geometric) (1.5.0)\n",
            "Requirement already satisfied: multidict<7.0,>=4.5 in /usr/local/lib/python3.11/dist-packages (from aiohttp->torch_geometric) (6.1.0)\n",
            "Requirement already satisfied: propcache>=0.2.0 in /usr/local/lib/python3.11/dist-packages (from aiohttp->torch_geometric) (0.3.0)\n",
            "Requirement already satisfied: yarl<2.0,>=1.17.0 in /usr/local/lib/python3.11/dist-packages (from aiohttp->torch_geometric) (1.18.3)\n",
            "Requirement already satisfied: MarkupSafe>=2.0 in /usr/local/lib/python3.11/dist-packages (from jinja2->torch_geometric) (3.0.2)\n",
            "Requirement already satisfied: charset-normalizer<4,>=2 in /usr/local/lib/python3.11/dist-packages (from requests->torch_geometric) (3.4.1)\n",
            "Requirement already satisfied: idna<4,>=2.5 in /usr/local/lib/python3.11/dist-packages (from requests->torch_geometric) (3.10)\n",
            "Requirement already satisfied: urllib3<3,>=1.21.1 in /usr/local/lib/python3.11/dist-packages (from requests->torch_geometric) (2.3.0)\n",
            "Requirement already satisfied: certifi>=2017.4.17 in /usr/local/lib/python3.11/dist-packages (from requests->torch_geometric) (2025.1.31)\n",
            "Downloading torch_geometric-2.6.1-py3-none-any.whl (1.1 MB)\n",
            "\u001b[2K   \u001b[90m━━━━━━━━━━━━━━━━━━━━━━━━━━━━━━━━━━━━━━━━\u001b[0m \u001b[32m1.1/1.1 MB\u001b[0m \u001b[31m10.6 MB/s\u001b[0m eta \u001b[36m0:00:00\u001b[0m\n",
            "\u001b[?25hInstalling collected packages: torch_geometric\n",
            "Successfully installed torch_geometric-2.6.1\n"
          ]
        }
      ]
    },
    {
      "cell_type": "markdown",
      "source": [
        "Convert Graphs and Define Model:\n",
        "python\n",
        "Copy"
      ],
      "metadata": {
        "id": "h88BHAPKtSNy"
      }
    },
    {
      "cell_type": "code",
      "source": [
        "\n",
        "\n",
        "from torch_geometric.data import Data\n",
        "import torch\n",
        "\n"
      ],
      "metadata": {
        "id": "5_3GtQx0tJfi"
      },
      "execution_count": 4,
      "outputs": []
    },
    {
      "cell_type": "code",
      "source": [
        "import networkx as nx\n",
        "\n",
        "n = 100  # Number of nodes\n",
        "p = 0.1  # Probability of edge creation\n",
        "G = nx.erdos_renyi_graph(n, p)\n",
        "\n",
        "pyg_graph1 = Data(x=torch.ones(G.number_of_nodes(), 1),\n",
        "              edge_index=torch.tensor(list(G.edges)).t().contiguous())\n",
        "\n",
        "\n",
        "n = 100  # Number of nodes\n",
        "p = 0.5  # Probability of edge creation\n",
        "G = nx.erdos_renyi_graph(n, p)\n",
        "\n",
        "pyg_graph2 = Data(x=torch.ones(G.number_of_nodes(), 1),\n",
        "              edge_index=torch.tensor(list(G.edges)).t().contiguous())\n",
        "\n",
        "\n",
        "# make a loop through set of graphs"
      ],
      "metadata": {
        "id": "lKkrVmafxhL1"
      },
      "execution_count": 17,
      "outputs": []
    },
    {
      "cell_type": "markdown",
      "source": [
        "# Run simulations in the loop"
      ],
      "metadata": {
        "id": "Ga0qm6oSbec-"
      }
    },
    {
      "cell_type": "code",
      "source": [
        "# load graphs in the loop\n",
        "\n",
        "\n",
        "for graph in graphs:\n",
        "    # Extract data\n",
        "    x = graph.x  # Node features [N, input_dim]\n",
        "    edge_index = graph.edge_index\n",
        "    batch = torch.zeros(x.size(0), dtype=torch.long)  # Single graph in batch\n",
        ""
      ],
      "metadata": {
        "id": "fNivfqnUbY3l"
      },
      "execution_count": null,
      "outputs": []
    },
    {
      "cell_type": "markdown",
      "source": [
        "# Loading graph from real world data\n",
        "\n",
        "We can download them from osmnx graphs library."
      ],
      "metadata": {
        "id": "bc9ZWFldXPYJ"
      }
    },
    {
      "cell_type": "code",
      "source": [
        "!pip install osmnx"
      ],
      "metadata": {
        "colab": {
          "base_uri": "https://localhost:8080/"
        },
        "id": "qRTIPwmGXijl",
        "outputId": "90f18296-3d48-493a-c12c-868bb72b62e6"
      },
      "execution_count": 12,
      "outputs": [
        {
          "output_type": "stream",
          "name": "stdout",
          "text": [
            "Collecting osmnx\n",
            "  Downloading osmnx-2.0.1-py3-none-any.whl.metadata (4.9 kB)\n",
            "Requirement already satisfied: geopandas>=1.0 in /usr/local/lib/python3.11/dist-packages (from osmnx) (1.0.1)\n",
            "Requirement already satisfied: networkx>=2.5 in /usr/local/lib/python3.11/dist-packages (from osmnx) (3.4.2)\n",
            "Requirement already satisfied: numpy>=1.22 in /usr/local/lib/python3.11/dist-packages (from osmnx) (1.26.4)\n",
            "Requirement already satisfied: pandas>=1.4 in /usr/local/lib/python3.11/dist-packages (from osmnx) (2.2.2)\n",
            "Requirement already satisfied: requests>=2.27 in /usr/local/lib/python3.11/dist-packages (from osmnx) (2.32.3)\n",
            "Requirement already satisfied: shapely>=2.0 in /usr/local/lib/python3.11/dist-packages (from osmnx) (2.0.7)\n",
            "Requirement already satisfied: pyogrio>=0.7.2 in /usr/local/lib/python3.11/dist-packages (from geopandas>=1.0->osmnx) (0.10.0)\n",
            "Requirement already satisfied: packaging in /usr/local/lib/python3.11/dist-packages (from geopandas>=1.0->osmnx) (24.2)\n",
            "Requirement already satisfied: pyproj>=3.3.0 in /usr/local/lib/python3.11/dist-packages (from geopandas>=1.0->osmnx) (3.7.1)\n",
            "Requirement already satisfied: python-dateutil>=2.8.2 in /usr/local/lib/python3.11/dist-packages (from pandas>=1.4->osmnx) (2.8.2)\n",
            "Requirement already satisfied: pytz>=2020.1 in /usr/local/lib/python3.11/dist-packages (from pandas>=1.4->osmnx) (2025.1)\n",
            "Requirement already satisfied: tzdata>=2022.7 in /usr/local/lib/python3.11/dist-packages (from pandas>=1.4->osmnx) (2025.1)\n",
            "Requirement already satisfied: charset-normalizer<4,>=2 in /usr/local/lib/python3.11/dist-packages (from requests>=2.27->osmnx) (3.4.1)\n",
            "Requirement already satisfied: idna<4,>=2.5 in /usr/local/lib/python3.11/dist-packages (from requests>=2.27->osmnx) (3.10)\n",
            "Requirement already satisfied: urllib3<3,>=1.21.1 in /usr/local/lib/python3.11/dist-packages (from requests>=2.27->osmnx) (2.3.0)\n",
            "Requirement already satisfied: certifi>=2017.4.17 in /usr/local/lib/python3.11/dist-packages (from requests>=2.27->osmnx) (2025.1.31)\n",
            "Requirement already satisfied: six>=1.5 in /usr/local/lib/python3.11/dist-packages (from python-dateutil>=2.8.2->pandas>=1.4->osmnx) (1.17.0)\n",
            "Downloading osmnx-2.0.1-py3-none-any.whl (99 kB)\n",
            "\u001b[2K   \u001b[90m━━━━━━━━━━━━━━━━━━━━━━━━━━━━━━━━━━━━━━━━\u001b[0m \u001b[32m99.6/99.6 kB\u001b[0m \u001b[31m1.9 MB/s\u001b[0m eta \u001b[36m0:00:00\u001b[0m\n",
            "\u001b[?25hInstalling collected packages: osmnx\n",
            "Successfully installed osmnx-2.0.1\n"
          ]
        }
      ]
    },
    {
      "cell_type": "code",
      "source": [
        "\n",
        "import osmnx as ox\n",
        "import shapely.geometry as sg\n",
        "from tqdm import tqdm\n",
        "\n",
        "\n",
        "G = ox.graph_from_place(\"Sochi, Russia\")\n",
        "#G = nx.read_graphml(\"graph_R62145.graphml\")\n",
        "G = nx.MultiGraph(G)\n",
        "G.graph[\"crs\"] = \"epsg:4326\"\n",
        "\n",
        "pyg_graph = Data(x=torch.ones(G.number_of_nodes(), 1),\n",
        "              edge_index=torch.tensor(list(G.edges)).t().contiguous())"
      ],
      "metadata": {
        "id": "wolPpNEvXU9R"
      },
      "execution_count": 13,
      "outputs": []
    },
    {
      "cell_type": "code",
      "source": [
        "\n",
        "#Convert networkx graphs to PyG Data objects\n",
        "pyg_graphs = [Data(x=torch.ones(G.number_of_nodes(), 1),\n",
        "              edge_index=torch.tensor(list(G.edges)).t().contiguous())\n",
        "             for G in graphs]"
      ],
      "metadata": {
        "id": "cnPmXtphvPCm"
      },
      "execution_count": null,
      "outputs": []
    },
    {
      "cell_type": "markdown",
      "source": [
        "# GCN for embeddings\n",
        "\n",
        "We can use GCN for generating the embeddings.\n",
        "Based on the hidden dimension size we will get different coordinate system.\n",
        "Embedding contains the topological information."
      ],
      "metadata": {
        "id": "rtGOpMYm0UbW"
      }
    },
    {
      "cell_type": "code",
      "source": [
        "\n",
        "# Define a simple GNN with global mean pooling\n",
        "from torch_geometric.nn import global_mean_pool, GCNConv\n",
        "import torch.nn as nn\n",
        "\n",
        "class GNNEmbedder(nn.Module):\n",
        "    def __init__(self, hidden_dim=64):\n",
        "        super().__init__()\n",
        "        self.conv1 = GCNConv(1, hidden_dim)\n",
        "        self.pool = global_mean_pool\n",
        "\n",
        "    def forward(self, data):\n",
        "        x, edge_index, batch = data.x, data.edge_index, data.batch\n",
        "        x = self.conv1(x, edge_index).relu()\n",
        "        return self.pool(x, batch)\n",
        "\n",
        "model = GNNEmbedder()"
      ],
      "metadata": {
        "id": "_vM8BF0GuxHw"
      },
      "execution_count": 6,
      "outputs": []
    },
    {
      "cell_type": "markdown",
      "source": [
        "\n",
        "# Save and extract embeddings\n",
        "\n",
        "We can now save our embeddings as a tensor (vector).\n",
        "This output can be then combined with other network properties (persistence diagrams).\n"
      ],
      "metadata": {
        "id": "Pob3QhROtLsM"
      }
    },
    {
      "cell_type": "code",
      "source": [
        "# now running the embedding\n",
        "\n",
        "graph = pyg_graph1\n",
        "with torch.no_grad():\n",
        "  graph_emb1 = model(graph)\n",
        "\n",
        "\n",
        "\n",
        "graph = pyg_graph2\n",
        "with torch.no_grad():\n",
        "  graph_emb2 = model(graph)\n"
      ],
      "metadata": {
        "id": "yr2LUttCzjWb"
      },
      "execution_count": 19,
      "outputs": []
    },
    {
      "cell_type": "code",
      "source": [
        "print(graph_emb.shape)\n",
        "print(graph_emb)"
      ],
      "metadata": {
        "colab": {
          "base_uri": "https://localhost:8080/"
        },
        "id": "lZRgn17H0EhA",
        "outputId": "e5ba3d40-7091-4b10-c3aa-2ba51d43caa4"
      },
      "execution_count": 10,
      "outputs": [
        {
          "output_type": "stream",
          "name": "stdout",
          "text": [
            "torch.Size([1, 64])\n",
            "tensor([[0.0000, 0.0000, 0.3854, 0.0000, 0.0496, 0.0000, 0.0000, 0.2420, 0.1587,\n",
            "         0.2035, 0.2714, 0.0000, 0.0000, 0.0431, 0.0000, 0.0000, 0.0000, 0.0263,\n",
            "         0.0881, 0.2244, 0.0000, 0.1510, 0.3728, 0.2263, 0.0000, 0.2913, 0.0000,\n",
            "         0.2768, 0.4002, 0.0137, 0.0000, 0.0740, 0.3970, 0.4024, 0.0000, 0.0000,\n",
            "         0.0000, 0.3510, 0.2094, 0.0000, 0.0000, 0.3934, 0.0000, 0.0000, 0.1000,\n",
            "         0.0841, 0.0279, 0.3629, 0.1274, 0.0000, 0.0000, 0.0000, 0.1879, 0.2561,\n",
            "         0.2662, 0.0000, 0.1142, 0.1643, 0.0000, 0.0000, 0.2277, 0.0815, 0.0000,\n",
            "         0.2532]])\n"
          ]
        }
      ]
    },
    {
      "cell_type": "markdown",
      "source": [
        "If we need to apply this to several graphs, then we need to do that in the look applying graph_emb method.\n"
      ],
      "metadata": {
        "id": "RFyMMtCbzVLR"
      }
    },
    {
      "cell_type": "code",
      "source": [
        "\n",
        "embeddings = []\n",
        "for graph in pyg_graph:\n",
        "    graph.batch = torch.zeros(graph.num_nodes, dtype=torch.long)\n",
        "    with torch.no_grad():\n",
        "        emb = model(graph)\n",
        "    embeddings.append(emb.numpy())\n",
        "\n",
        "# save all the embeddings to one big stack\n",
        "embeddings = np.vstack(embeddings)"
      ],
      "metadata": {
        "id": "uAzmffOOtMGW"
      },
      "execution_count": 1,
      "outputs": []
    },
    {
      "cell_type": "code",
      "source": [],
      "metadata": {
        "id": "Mai6Bvh2QjUR"
      },
      "execution_count": null,
      "outputs": []
    },
    {
      "cell_type": "markdown",
      "source": [
        "# Topological and structural values\n",
        "We compute network measures."
      ],
      "metadata": {
        "id": "4LQRPsdAQl7S"
      }
    },
    {
      "cell_type": "code",
      "source": [
        "import networkx as nx\n",
        "\n",
        "def compute_network_measures(G):\n",
        "    measures = {\n",
        "        \"avg_degree\": np.mean(list(dict(G.degree()).values())),\n",
        "        \"clustering_coeff\": nx.average_clustering(G),\n",
        "        \"diameter\": nx.diameter(G) if nx.is_connected(G) else 0,\n",
        "    }\n",
        "    return np.array(list(measures.values()))  # Shape: [num_measures]"
      ],
      "metadata": {
        "id": "JIniuYymzQ1z"
      },
      "execution_count": null,
      "outputs": []
    },
    {
      "cell_type": "markdown",
      "source": [
        "# Classification based on the embeddings and topological features together\n",
        "\n",
        "We now want to use the classification method where the input has the format of the vector\n",
        "\n",
        "      embedding output, vector  = (1, ... 0, ... 1)\n",
        "\n",
        "      ripser output, matrix = (N=0 (), N=1 (), N=2 ())\n",
        "\n",
        "      topological features of the graph, vector = ()\n",
        "\n",
        "\n",
        "We use the hybrid classification method to detect and classify our graphs into subclusters."
      ],
      "metadata": {
        "id": "q8hj1ekW2pc_"
      }
    },
    {
      "cell_type": "code",
      "source": [
        "\n",
        "\n",
        "import torch.nn as nn\n",
        "\n",
        "class HybridClassifier(nn.Module):\n",
        "    def __init__(self, input_dim, hidden_dim, num_classes):\n",
        "        super().__init__()\n",
        "        self.fc1 = nn.Linear(input_dim, hidden_dim)\n",
        "        self.fc2 = nn.Linear(hidden_dim, num_classes)\n",
        "\n",
        "    def forward(self, x):\n",
        "        x = torch.relu(self.fc1(x))\n",
        "        return self.fc2(x)\n",
        "\n",
        "# Usage:\n",
        "model = HybridClassifier(input_dim=normalized_features.shape[1], hidden_dim=64, num_classes=10)"
      ],
      "metadata": {
        "id": "acQdd0Bu2oZM"
      },
      "execution_count": null,
      "outputs": []
    }
  ]
}